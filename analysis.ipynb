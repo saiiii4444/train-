{
 "cells": [
  {
   "cell_type": "markdown",
   "id": "1d9daf27",
   "metadata": {},
   "source": [
    "# Analysis of SNCF Train Punctuality\n",
    "\n",
    "This notebook demonstrates how to process the open data released by SNCF for Intercités and TER trains. It aggregates monthly performance metrics and produces basic charts for exploratory analysis."
   ]
  },
  {
   "cell_type": "code",
   "execution_count": null,
   "id": "331a3b3f",
   "metadata": {},
   "outputs": [],
   "source": [
    "import pandas as pd\n",
    "import matplotlib.pyplot as plt\n",
    "from matplotlib.dates import DateFormatter\n",
    "\n",
    "# Load aggregated data\n",
    "combined = pd.read_csv('train_performance_monthly.csv')\n",
    "combined['date'] = pd.to_datetime(combined['date'], format='%Y-%m')\n",
    "combined.head()"
   ]
  },
  {
   "cell_type": "markdown",
   "id": "2264ecec",
   "metadata": {},
   "source": [
    "## Trend of Monthly Punctuality\n",
    "\n",
    "We plot the average punctuality (taux de régularité) of Intercités and TER over time."
   ]
  },
  {
   "cell_type": "code",
   "execution_count": null,
   "id": "48fb31bc",
   "metadata": {},
   "outputs": [],
   "source": [
    "plt.figure(figsize=(10,6))\n",
    "plt.plot(combined['date'], combined['regularite_intercites'], label='Intercités', marker='o')\n",
    "plt.plot(combined['date'], combined['regularite_ter'], label='TER', marker='o')\n",
    "plt.title('Régularité mensuelle des trains Intercités et TER')\n",
    "plt.xlabel('Date')\n",
    "plt.ylabel('Taux de régularité (%)')\n",
    "plt.gca().xaxis.set_major_formatter(DateFormatter('%Y-%m'))\n",
    "plt.xticks(rotation=45)\n",
    "plt.grid(True, linestyle='--', alpha=0.5)\n",
    "plt.legend()\n",
    "plt.tight_layout()\n",
    "plt.show()"
   ]
  },
  {
   "cell_type": "markdown",
   "id": "095e41e4",
   "metadata": {},
   "source": [
    "## Average punctuality\n",
    "\n",
    "Calculate the mean regularity across the entire time span for each service."
   ]
  },
  {
   "cell_type": "code",
   "execution_count": null,
   "id": "ba1e1855",
   "metadata": {},
   "outputs": [],
   "source": [
    "avg_ic = combined['regularite_intercites'].mean()\n",
    "avg_ter = combined['regularite_ter'].mean()\n",
    "avg_ic, avg_ter"
   ]
  }
 ],
 "metadata": {},
 "nbformat": 4,
 "nbformat_minor": 5
}
